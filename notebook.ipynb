{
 "cells": [
  {
   "cell_type": "code",
   "execution_count": null,
   "id": "f90207d4",
   "metadata": {},
   "outputs": [
    {
     "name": "stdout",
     "output_type": "stream",
     "text": [
      "models/embedding-gecko-001 supports: ['embedText', 'countTextTokens']\n",
      "models/gemini-1.5-pro-latest supports: ['generateContent', 'countTokens']\n",
      "models/gemini-1.5-pro-002 supports: ['generateContent', 'countTokens', 'createCachedContent']\n",
      "models/gemini-1.5-pro supports: ['generateContent', 'countTokens']\n",
      "models/gemini-1.5-flash-latest supports: ['generateContent', 'countTokens']\n",
      "models/gemini-1.5-flash supports: ['generateContent', 'countTokens']\n",
      "models/gemini-1.5-flash-002 supports: ['generateContent', 'countTokens', 'createCachedContent']\n",
      "models/gemini-1.5-flash-8b supports: ['createCachedContent', 'generateContent', 'countTokens']\n",
      "models/gemini-1.5-flash-8b-001 supports: ['createCachedContent', 'generateContent', 'countTokens']\n",
      "models/gemini-1.5-flash-8b-latest supports: ['createCachedContent', 'generateContent', 'countTokens']\n",
      "models/gemini-2.5-pro-preview-03-25 supports: ['generateContent', 'countTokens', 'createCachedContent', 'batchGenerateContent']\n",
      "models/gemini-2.5-flash-preview-05-20 supports: ['generateContent', 'countTokens', 'createCachedContent', 'batchGenerateContent']\n",
      "models/gemini-2.5-flash supports: ['generateContent', 'countTokens', 'createCachedContent', 'batchGenerateContent']\n",
      "models/gemini-2.5-flash-lite-preview-06-17 supports: ['generateContent', 'countTokens', 'createCachedContent', 'batchGenerateContent']\n",
      "models/gemini-2.5-pro-preview-05-06 supports: ['generateContent', 'countTokens', 'createCachedContent', 'batchGenerateContent']\n",
      "models/gemini-2.5-pro-preview-06-05 supports: ['generateContent', 'countTokens', 'createCachedContent', 'batchGenerateContent']\n",
      "models/gemini-2.5-pro supports: ['generateContent', 'countTokens', 'createCachedContent', 'batchGenerateContent']\n",
      "models/gemini-2.0-flash-exp supports: ['generateContent', 'countTokens', 'bidiGenerateContent']\n",
      "models/gemini-2.0-flash supports: ['generateContent', 'countTokens', 'createCachedContent', 'batchGenerateContent']\n",
      "models/gemini-2.0-flash-001 supports: ['generateContent', 'countTokens', 'createCachedContent', 'batchGenerateContent']\n",
      "models/gemini-2.0-flash-exp-image-generation supports: ['generateContent', 'countTokens', 'bidiGenerateContent']\n",
      "models/gemini-2.0-flash-lite-001 supports: ['generateContent', 'countTokens', 'createCachedContent', 'batchGenerateContent']\n",
      "models/gemini-2.0-flash-lite supports: ['generateContent', 'countTokens', 'createCachedContent', 'batchGenerateContent']\n",
      "models/gemini-2.0-flash-preview-image-generation supports: ['generateContent', 'countTokens']\n",
      "models/gemini-2.0-flash-lite-preview-02-05 supports: ['generateContent', 'countTokens', 'createCachedContent', 'batchGenerateContent']\n",
      "models/gemini-2.0-flash-lite-preview supports: ['generateContent', 'countTokens', 'createCachedContent', 'batchGenerateContent']\n",
      "models/gemini-2.0-pro-exp supports: ['generateContent', 'countTokens', 'createCachedContent', 'batchGenerateContent']\n",
      "models/gemini-2.0-pro-exp-02-05 supports: ['generateContent', 'countTokens', 'createCachedContent', 'batchGenerateContent']\n",
      "models/gemini-exp-1206 supports: ['generateContent', 'countTokens', 'createCachedContent', 'batchGenerateContent']\n",
      "models/gemini-2.0-flash-thinking-exp-01-21 supports: ['generateContent', 'countTokens', 'createCachedContent', 'batchGenerateContent']\n",
      "models/gemini-2.0-flash-thinking-exp supports: ['generateContent', 'countTokens', 'createCachedContent', 'batchGenerateContent']\n",
      "models/gemini-2.0-flash-thinking-exp-1219 supports: ['generateContent', 'countTokens', 'createCachedContent', 'batchGenerateContent']\n",
      "models/gemini-2.5-flash-preview-tts supports: ['countTokens', 'generateContent']\n",
      "models/gemini-2.5-pro-preview-tts supports: ['countTokens', 'generateContent']\n",
      "models/learnlm-2.0-flash-experimental supports: ['generateContent', 'countTokens']\n",
      "models/gemma-3-1b-it supports: ['generateContent', 'countTokens']\n",
      "models/gemma-3-4b-it supports: ['generateContent', 'countTokens']\n",
      "models/gemma-3-12b-it supports: ['generateContent', 'countTokens']\n",
      "models/gemma-3-27b-it supports: ['generateContent', 'countTokens']\n",
      "models/gemma-3n-e4b-it supports: ['generateContent', 'countTokens']\n",
      "models/gemma-3n-e2b-it supports: ['generateContent', 'countTokens']\n",
      "models/gemini-2.5-flash-lite supports: ['generateContent', 'countTokens', 'createCachedContent', 'batchGenerateContent']\n",
      "models/embedding-001 supports: ['embedContent']\n",
      "models/text-embedding-004 supports: ['embedContent']\n",
      "models/gemini-embedding-exp-03-07 supports: ['embedContent', 'countTextTokens', 'countTokens']\n",
      "models/gemini-embedding-exp supports: ['embedContent', 'countTextTokens', 'countTokens']\n",
      "models/gemini-embedding-001 supports: ['embedContent', 'countTextTokens', 'countTokens']\n",
      "models/aqa supports: ['generateAnswer']\n",
      "models/imagen-3.0-generate-002 supports: ['predict']\n",
      "models/imagen-4.0-generate-preview-06-06 supports: ['predict']\n",
      "models/imagen-4.0-ultra-generate-preview-06-06 supports: ['predict']\n",
      "models/veo-2.0-generate-001 supports: ['predictLongRunning']\n",
      "models/veo-3.0-generate-preview supports: ['predictLongRunning']\n",
      "models/veo-3.0-fast-generate-preview supports: ['predictLongRunning']\n",
      "models/gemini-2.5-flash-preview-native-audio-dialog supports: ['countTokens', 'bidiGenerateContent']\n",
      "models/gemini-2.5-flash-exp-native-audio-thinking-dialog supports: ['countTokens', 'bidiGenerateContent']\n",
      "models/gemini-2.0-flash-live-001 supports: ['bidiGenerateContent', 'countTokens']\n",
      "models/gemini-live-2.5-flash-preview supports: ['bidiGenerateContent', 'countTokens']\n",
      "models/gemini-2.5-flash-live-preview supports: ['bidiGenerateContent', 'countTokens']\n"
     ]
    }
   ],
   "source": [
    "import google.generativeai as genai\n",
    "import os\n",
    "from dotenv import load_dotenv\n",
    "\n",
    "load_dotenv()\n",
    "genai.configure(api_key=os.getenv(\"GOOGLE_API_KEY\"))\n",
    "\n",
    "# List available models\n",
    "models = genai.list_models()\n",
    "\n",
    "for m in models:\n",
    "    print(m.name, \"supports:\", m.supported_generation_methods)\n"
   ]
  },
  {
   "cell_type": "code",
   "execution_count": null,
   "id": "bd77a86a",
   "metadata": {},
   "outputs": [
    {
     "name": "stdout",
     "output_type": "stream",
     "text": [
      "<generator object list_models at 0x7f95f4578f40>\n"
     ]
    }
   ],
   "source": []
  },
  {
   "cell_type": "code",
   "execution_count": null,
   "id": "ae400b5a",
   "metadata": {},
   "outputs": [],
   "source": []
  },
  {
   "cell_type": "code",
   "execution_count": null,
   "id": "853e8a32",
   "metadata": {},
   "outputs": [],
   "source": []
  }
 ],
 "metadata": {
  "kernelspec": {
   "display_name": ".generativeAI",
   "language": "python",
   "name": "python3"
  },
  "language_info": {
   "codemirror_mode": {
    "name": "ipython",
    "version": 3
   },
   "file_extension": ".py",
   "mimetype": "text/x-python",
   "name": "python",
   "nbconvert_exporter": "python",
   "pygments_lexer": "ipython3",
   "version": "3.13.5"
  }
 },
 "nbformat": 4,
 "nbformat_minor": 5
}
